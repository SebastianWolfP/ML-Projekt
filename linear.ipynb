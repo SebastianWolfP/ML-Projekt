{
 "cells": [
  {
   "cell_type": "markdown",
   "id": "7820450b",
   "metadata": {},
   "source": [
    "kskaskaksk"
   ]
  }
 ],
 "metadata": {
  "language_info": {
   "name": "python"
  }
 },
 "nbformat": 4,
 "nbformat_minor": 5
}
